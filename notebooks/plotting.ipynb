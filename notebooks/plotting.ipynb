{
 "cells": [
  {
   "cell_type": "markdown",
   "metadata": {},
   "source": [
    "debugging_test_pandas_matplotlib.py\n",
    "\n",
    "This script tests your debugging skills using pandas and matplotlib.\n",
    "\n",
    "Tasks:\n",
    "1. Identify and remove incorrect lines marked with '### Remove'.\n",
    "2. Replace them with the correct code so that:\n",
    "   - The data is grouped properly by 'Category'.\n",
    "   - A bar chart is generated using matplotlib.\n",
    "   - The figure is saved as 'sales_plot.png'.\n",
    "\n",
    "Use the minimal check at the bottom to verify if the code runs without errors \n",
    "and successfully creates 'sales_plot.png'."
   ]
  },
  {
   "cell_type": "code",
   "execution_count": null,
   "metadata": {},
   "outputs": [
    {
     "name": "stdout",
     "output_type": "stream",
     "text": [
      "Plot saved as 'sales_plot.png'.\n",
      "Success: 'sales_plot.png' was created. Please open it to verify the bar chart.\n"
     ]
    },
    {
     "data": {
      "image/png": "[encoded data removed]",
      "text/plain": [
       "<Figure size 640x480 with 1 Axes>"
      ]
     },
     "metadata": {},
     "output_type": "display_data"
    }
   ],
   "source": [
    "import pandas as pd\n",
    "import matplotlib.pyplot as plt\n",
    "import os\n",
    "\n",
    "def analyze_data():\n",
    "    # Sample data\n",
    "    data = {\n",
    "        \"Category\": [\"A\", \"A\", \"B\", \"B\", \"C\", \"C\"],\n",
    "        \"Sales\": [10, 15, 8, 12, 20, 18]\n",
    "    }\n",
    "\n",
    "    # 1. Create a DataFrame    \n",
    "    \n",
    "    # 2. Group by 'Category' and calculate the average sales\n",
    "\n",
    "    # 3. Plot the grouped data as a bar chart\n",
    "\n",
    "    # 4. Save the figure as sales_plot.png\n",
    "\n",
    "\n",
    "if __name__ == \"__main__\":\n",
    "    analyze_data()\n",
    "\n",
    "    # 5. Minimal check: Did the script create 'sales_plot.png'?\n",
    "    if os.path.exists(\"sales_plot.png\"):\n",
    "        print(\"Success: 'sales_plot.png' was created. Please open it to verify the bar chart.\")\n",
    "    else:\n",
    "        print(\"Error: 'sales_plot.png' was not created.\")"
   ]
  }
 ],
 "metadata": {
  "kernelspec": {
   "display_name": ".venv",
   "language": "python",
   "name": "python3"
  },
  "language_info": {
   "codemirror_mode": {
    "name": "ipython",
    "version": 3
   },
   "file_extension": ".py",
   "mimetype": "text/x-python",
   "name": "python",
   "nbconvert_exporter": "python",
   "pygments_lexer": "ipython3",
   "version": "3.9.6"
  }
 },
 "nbformat": 4,
 "nbformat_minor": 2
}
